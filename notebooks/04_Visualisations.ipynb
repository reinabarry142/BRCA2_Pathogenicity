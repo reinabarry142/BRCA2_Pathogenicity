{
 "cells": [
  {
   "cell_type": "code",
   "execution_count": 5,
   "id": "c32ecb9e-4576-4880-ac95-7765f0cc958c",
   "metadata": {},
   "outputs": [
    {
     "name": "stdout",
     "output_type": "stream",
     "text": [
      "Visualisations sauvegardées dans C:\\Users\\REINA\\BRCA2_Pathogenicity\\visualizations\n"
     ]
    }
   ],
   "source": [
    "import os\n",
    "import pandas as pd\n",
    "import numpy as np\n",
    "import matplotlib.pyplot as plt\n",
    "import seaborn as sns\n",
    "\n",
    "from sklearn.model_selection import train_test_split\n",
    "from sklearn.preprocessing import StandardScaler\n",
    "from sklearn.neural_network import MLPClassifier\n",
    "from sklearn.metrics import (\n",
    "    accuracy_score,\n",
    "    classification_report,\n",
    "    roc_auc_score,\n",
    "    average_precision_score,\n",
    "    confusion_matrix,\n",
    "    RocCurveDisplay,\n",
    ")\n",
    "from sklearn.manifold import TSNE\n",
    "import joblib\n",
    "\n",
    "# === Chemins ===\n",
    "model_dir = r\"C:\\Users\\REINA\\BRCA2_Pathogenicity\\models\"\n",
    "viz_dir = r\"C:\\Users\\REINA\\BRCA2_Pathogenicity\\visualizations\"\n",
    "os.makedirs(viz_dir, exist_ok=True)\n",
    "\n",
    "# === Charger les données ===\n",
    "df = pd.read_csv(r\"C:\\Users\\REINA\\BRCA2_Pathogenicity\\data\\processed\\combined\\brca2_combined_features_expanded.csv\")\n",
    "\n",
    "X = df.iloc[:, 2:].values\n",
    "y = df[\"Label\"].astype(int).values\n",
    "\n",
    "# === Diviser ===\n",
    "X_train, X_test, y_train, y_test = train_test_split(\n",
    "    X, y, test_size=0.9, random_state=42\n",
    ")\n",
    "\n",
    "# === Normalisation ===\n",
    "scaler = StandardScaler()\n",
    "X_train = scaler.fit_transform(X_train)\n",
    "X_test = scaler.transform(X_test)\n",
    "\n",
    "# === Charger le modèle ===\n",
    "clf = joblib.load(os.path.join(model_dir, \"brca2_mlp_model_expanded.pkl\"))\n",
    "\n",
    "# === Prédictions ===\n",
    "y_pred = clf.predict(X_test)\n",
    "y_proba = clf.predict_proba(X_test)[:, 1]\n",
    "\n",
    "# === 1. Matrice de confusion ===\n",
    "cm = confusion_matrix(y_test, y_pred)\n",
    "plt.figure(figsize=(6,5))\n",
    "sns.heatmap(cm, annot=True, fmt=\"d\", cmap=\"Blues\", cbar=False)\n",
    "plt.xlabel(\"Prédiction\")\n",
    "plt.ylabel(\"Vérité terrain\")\n",
    "plt.title(\"Matrice de confusion\")\n",
    "plt.savefig(os.path.join(viz_dir, \"confusion_matrix.png\"))\n",
    "plt.close()\n",
    "\n",
    "# === 2. Courbe ROC ===\n",
    "roc_disp = RocCurveDisplay.from_predictions(y_test, y_proba)\n",
    "plt.title(\"Courbe ROC\")\n",
    "plt.savefig(os.path.join(viz_dir, \"roc_curve.png\"))\n",
    "plt.close()\n",
    "\n",
    "# === 3. t-SNE ===\n",
    "tsne = TSNE(n_components=2, random_state=42, perplexity=30)\n",
    "X_test_embedded = tsne.fit_transform(X_test)\n",
    "\n",
    "plt.figure(figsize=(8,6))\n",
    "palette = sns.color_palette(\"bright\", 2)\n",
    "sns.scatterplot(x=X_test_embedded[:,0], y=X_test_embedded[:,1], hue=y_test, palette=palette, legend=\"full\")\n",
    "plt.title(\"t-SNE des données test\")\n",
    "plt.xlabel(\"Dimension 1\")\n",
    "plt.ylabel(\"Dimension 2\")\n",
    "plt.legend(title=\"Label\")\n",
    "plt.savefig(os.path.join(viz_dir, \"tSNE_plot.png\"))\n",
    "plt.close()\n",
    "\n",
    "print(f\"Visualisations sauvegardées dans {viz_dir}\")\n"
   ]
  },
  {
   "cell_type": "code",
   "execution_count": null,
   "id": "093ef6a6-30f2-488b-a623-71446a38c561",
   "metadata": {},
   "outputs": [],
   "source": []
  }
 ],
 "metadata": {
  "kernelspec": {
   "display_name": "Python 3 (ipykernel)",
   "language": "python",
   "name": "python3"
  },
  "language_info": {
   "codemirror_mode": {
    "name": "ipython",
    "version": 3
   },
   "file_extension": ".py",
   "mimetype": "text/x-python",
   "name": "python",
   "nbconvert_exporter": "python",
   "pygments_lexer": "ipython3",
   "version": "3.12.3"
  }
 },
 "nbformat": 4,
 "nbformat_minor": 5
}
