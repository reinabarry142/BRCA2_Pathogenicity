{
 "cells": [
  {
   "cell_type": "code",
   "execution_count": 1,
   "metadata": {},
   "outputs": [],
   "source": [
    "\n",
    "#READING THE RAW DATA"
   ]
  },
  {
   "cell_type": "code",
   "execution_count": 8,
   "metadata": {},
   "outputs": [
    {
     "name": "stdout",
     "output_type": "stream",
     "text": [
      "--- Reading C:/Users/REINA/BRCA2_Pathogenicity/data/raw/brca2_sequence.txt ---\n",
      "MPIGSKERPTFFEIFKTRCNKADLGPISLNWFEELSSEAPPYNSEPAEESEHKNNNYEPNLFKTPQRKPSYNQLASTPIIFKEQGLTLPLYQSPVKELDKFKLDLGRNVPNSRHKSLRTVKTKMDQADDVSCPLLNSCLSESPVVLQCTHVTPQRDKSVVCGSLFHTPKFVKGRQTPKHISESLGAEVDPDMSWSSSLATPPTLSSTVLIVRNEEASETVFPHDTTANVKSYFSNHDESLKKNDRFIASVTDSENTNQREAASHGFGKTSGNSFKVNSCKDHIGKSMPNVLEDEVYETVVDTSEEDSFSLCFSKCRTKNLQKVRTSKTRKKIFHEANADECEKSKNQVKEKYSFVSEVEPNDTDPLDSNVANQKPFESGSDKISKEVVPSLACEWSQLTLSGLNGAQMEKIPLLHISSCDQNISEKDLLDTENKRKKDFLTSENSLPRISSLPKSEKPLNEETVVNKRDEEQHLESHTDCILAVKQAISGTSPVASSFQGIKKSIFRIRESPKETFNASFSGHMTDPNFKKETEASESGLEIHTVCSQKEDSLCPNLIDNGSWPATTTQNSVALKNAGLISTLKKKTNKFIYAIHDETSYKGKKIPKDQKSELINCSAQFEANAFEAPLTFANADSGLLHSSVKRSCSQNDSEEPTLSLTSSFGTILRKCSRNETCSNNTVISQDLDYKEAKCNKEKLQLFITPEADSLSCLQEGQCENDPKSKKVSDIKEEVLAAACHPVQHSKVEYSDTDFQSQKSLLYDHENASTLILTPTSKDVLSNLVMISRGKESYKMSDKLKGNNYESDVELTKNIPMEKNQDVCALNENYKNVELLPPEKYMRVASPSRKVQFNQNTNLRVIQKNQEETTSISKITVNPDSEELFSDNENNFVFQVANERNNLALGNTKELHETDLTCVNEPIFKNSTMVLYGDTGDKQATQVSIKKDLVYVLAEENKNSVKQHIKMTLGQDLKSDISLNIDKIPEKNNDYMNKWAGLLGPISNHSFGGSFRTASNKEIKLSEHNIKKSKMFFKDIEEQYPTSLACVEIVNTLALDNQKKLSKPQSINTVSAHLQSSVVVSDCKNSHITPQMLFSKQDFNSNHNLTPSQKAEITELSTILEESGSQFEFTQFRKPSYILQKSTFEVPENQMTILKTTSEECRDADLHVIMNAPSIGQVDSSKQFEGTVEIKRKFAGLLKNDCNKSASGYLTDENEVGFRGFYSAHGTKLNVSTEALQKAVKLFSDIENISEETSAEVHPISLSSSKCHDSVVSMFKIENHNDKTVSEKNNKCQLILQNNIEMTTGTFVEEITENYKRNTENEDNKYTAASRNSHNLEFDGSDSSKNDTVCIHKDETDLLFTDQHNICLKLSGQFMKEGNTQIKEDLSDLTFLEVAKAQEACHGNTSNKEQLTATKTEQNIKDFETSDTFFQTASGKNISVAKESFNKIVNFFDQKPEELHNFSLNSELHSDIRKNKMDILSYEETDIVKHKILKESVPVGTGNQLVTFQGQPERDEKIKEPTLLGFHTASGKKVKIAKESLDKVKNLFDEKEQGTSEITSFSHQWAKTLKYREACKDLELACETIEITAAPKCKEMQNSLNNDKNLVSIETVVPPKLLSDNLCRQTENLKTSKSIFLKVKVHENVEKETAKSPATCYTNQSPYSVIENSALAFYTSCSRKTSVSQTSLLEAKKWLREGIFDGQPERINTADYVGNYLYENNSNSTIAENDKNHLSEKQDTYLSNSSMSNSYSYHSDEVYNDSGYLSKNKLDSGIEPVLKNVEDQKNTSFSKVISNVKDANAYPQTVNEDICVEELVTSSSPCKNKNAAIKLSISNSNNFEVGPPAFRIASGKIVCVSHETIKKVKDIFTDSFSKVIKENNENKSKICQTKIMAGCYEALDDSEDILHNSLDNDECSTHSHKVFADIQSEEILQHNQNMSGLEKVSKISPCDVSLETSDICKCSIGKLHKSVSSANTCGIFSTASGKSVQVSDASLQNARQVFSEIEDSTKQVFSKVLFKSNEHSDQLTREENTAIRTPEHLISQKGFSYNVVNSSAFSGFSTASGKQVSILESSLHKVKGVLEEFDLIRTEHSLHYSPTSRQNVSKILPRVDKRNPEHCVNSEMEKTCSKEFKLSNNLNVEGGSSENNHSIKVSPYLSQFQQDKQQLVLGTKVSLVENIHVLGKEQASPKNVKMEIGKTETFSDVPVKTNIEVCSTYSKDSENYFETEAVEIAKAFMEDDELTDSKLPSHATHSLFTCPENEEMVLSNSRIGKRRGEPLILVGEPSIKRNLLNEFDRIIENQEKSLKASKSTPDGTIKDRRLFMHHVSLEPITCVPFRTTKERQEIQNPNFTAPGQEFLSKSHLYEHLTLEKSSSNLAVSGHPFYQVSATRNEKMRHLITTGRPTKVFVPPFKTKSHFHRVEQCVRNINLEENRQKQNIDGHGSDDSKNKINDNEIHQFNKNNSNQAVAVTFTKCEEEPLDLITSLQNARDIQDMRIKKKQRQRVFPQPGSLYLAKTSTLPRISLKAAVGGQVPSACSHKQLYTYGVSKHCIKINSKNAESFQFHTEDYFGKESLWTGKGIQLADGGWLIPSNDGKAGKEEFYRALCDTPGVDPKLISRIWVYNHYRWIIWKLAAMECAFPKEFANRCLSPERVLLQLKYRYDTEIDRSRRSAIKKIMERDDTAAKTLVLCVSDIISLSANISETSSNKTSSADTQKVAIIELTDGWYAVKAQLDPPLLAVLKNGRLTVGQKIILHGAELVGSPDACTPLEAPESLMLKISANSTRPARWYTKLGFFPDPRPFPLPLSSLFSDGGNVGCVDVIIQRAYPIQWMEKTSSGLYIFRNEREEEKEAAKYVEAQQKRLEALFTKIQEEFEEHEENTTKPYLPSRALTRQQVRALQDGAELYEAVKNAADPAYLEGYFSEEQLRALNNHRQMLNDKKQAQIQLEIRKAMESAEQKEQGLSRDVTTVWKLRIVSYSKKEKDSVILSIWRPSSDLYSLLTEGKRYRIYHLATSKSKSKSERANIQLAATKKTQYQQLPVSDEILFQIYQPREPLHFSKFLDPDFQPSCSEVDLIGFVVSVVKKTGLAPFVYLSDECYNLLAIKFWIDLNEDIIKPHMLIAASNLQWRPESKSGLLTLFAGDFSVFSASPKEGHFQETFNKMKNTVENIDILCNEAENKLMHILHANDPKWSTPTKDCTSGPYTAQIIPGTGNKLLMSSPNCEIYYQSPLSLCMAKRKSVSTPVSAQMTSKSCKGEKEIDDQKNCKKRRALDFLSRLPLPPPVSPICTFVSPAAQKAFQPPRSCGTKYETPIKKKELNSPQMTPFKKFNEISLLESNSIADEELALINTQALLSGSTGEKQFISVSESTRTAPTSSEDYLRLKRRCTTSLIKEQESSQASTEECEKNKQDTITTKKYI\n",
      "\n",
      "\n",
      "--- Reading C:/Users/REINA/BRCA2_Pathogenicity/data/raw/clinvar_benign.txt ---\n",
      "Name\tGene(s)\tProtein change\tCondition(s)\tAccession\tGRCh37Chromosome\tGRCh37Location\tGRCh38Chromosome\tGRCh38Location\tVariationID\tAlleleID(s)\tdbSNP ID\tCanonical SPDI\tVariant type\tMolecular consequence\tGermline classification\tGermline date last evaluated\tGermline review status\tSomatic clinical impact\tSomatic clinical impact date last evaluated\tSomatic clinical impact review status\tOncogenicity classification\tOncogenicity date last evaluated\tOncogenicity review status\n",
      "NM_000059.4(BRCA2):c.53G>A (p.Arg18His)\tBRCA2\tR18H\tBreast-ovarian cancer, familial, susceptibility to, 2\tVCV000051855\t13\t32890650\t13\t32316513\t51855\t66523\trs80358762\tNC_000013.11:32316512:G:A\tsingle nucleotide variant\tmissense variant\tBenign\tAug 10, 2015\treviewed by expert panel\n",
      "NM_000059.4(BRCA2):c.122C>T (p.Pro41Leu)\tBRCA2\tP41L\tnot provided|Hereditary breast ovarian cancer syndrome|Hereditary cancer-predisposing syndrome|not specified|Breast-ovarian cancer, familial, susceptibility to, 2\tVCV000184823\t13\t32893268\t13\t32319131\t184823\t183619\trs786201716\tNC_000013.11:32319130:C:T\tsingle nucleotide variant\tmissense variant\tBenign/Likely benign\tDec 26, 2024\tcriteria provided, multiple submitters, no conflicts\n",
      "NM_000059.4(BRCA2):c.125A>G (p.Tyr42Cys)\tBRCA2\tY42C\tBreast-ovarian cancer, familial, susceptibility to, 2\tVCV000037734\t13\t32893271\t13\t32319134\t37734\t46290\trs4987046\tNC_000013.11:32319133:A:G\tsingle nucleotide variant\tmissense variant\tBenign\tAug 10, 2015\treviewed by expert panel\n",
      "NM_000059.4(BRCA2):c.167A>C (p.Asn56Thr)\tBRCA2\tN56T\tBreast-ovarian cancer, familial, susceptibility to, 2\tVCV000037751\t13\t32893313\t13\t32319176\t37751\t46307\trs80358454\tNC_000013.11:32319175:A:C\tsingle nucleotide variant\tmissense variant\tBenign\tAug 10, 2015\treviewed by expert panel\n",
      "\n",
      "\n",
      "--- Reading C:/Users/REINA/BRCA2_Pathogenicity/data/raw/clinvar_pathogenic.txt ---\n",
      "Name\tGene(s)\tProtein change\tCondition(s)\tAccession\tGRCh37Chromosome\tGRCh37Location\tGRCh38Chromosome\tGRCh38Location\tVariationID\tAlleleID(s)\tdbSNP ID\tCanonical SPDI\tVariant type\tMolecular consequence\tGermline classification\tGermline date last evaluated\tGermline review status\tSomatic clinical impact\tSomatic clinical impact date last evaluated\tSomatic clinical impact review status\tOncogenicity classification\tOncogenicity date last evaluated\tOncogenicity review status\n",
      "NM_000059.4(BRCA2):c.1A>G (p.Met1Val)\tBRCA2\tM1V\tHereditary breast ovarian cancer syndrome\tVCV000216026\t13\t32890598\t13\t32316461\t216026\t213018\trs863224464\tNC_000013.11:32316460:A:G\tsingle nucleotide variant\tmissense variant|initiator_codon_variant\tPathogenic\tApr 28, 2019\tcriteria provided, single submitter\n",
      "NM_000059.4(BRCA2):c.2T>A (p.Met1Lys)\tBRCA2\tM1K\tnot provided|Hereditary breast ovarian cancer syndrome\tVCV000431282\t13\t32890599\t13\t32316462\t431282\t424717\trs80358547\tNC_000013.11:32316461:T:A\tsingle nucleotide variant\tmissense variant|initiator_codon_variant\tPathogenic/Likely pathogenic\tJul 17, 2022\tcriteria provided, multiple submitters, no conflicts\n",
      "NM_000059.4(BRCA2):c.2T>G (p.Met1Arg)\tBRCA2\tM1R\tHereditary breast ovarian cancer syndrome|Breast-ovarian cancer, familial, susceptibility to, 2|not provided|Hereditary cancer-predisposing syndrome\tVCV000051385\t13\t32890599\t13\t32316462\t51385\t66053\trs80358547\tNC_000013.11:32316461:T:G\tsingle nucleotide variant\tmissense variant|initiator_codon_variant\tPathogenic\tJan 11, 2025\tcriteria provided, multiple submitters, no conflicts\n",
      "NM_000059.4(BRCA2):c.2T>C (p.Met1Thr)\tBRCA2\tM1T\tHereditary cancer-predisposing syndrome|Hereditary breast ovarian cancer syndrome\tVCV000051384\t13\t32890599\t13\t32316462\t51384\t66052\trs80358547\tNC_000013.11:32316461:T:C\tsingle nucleotide variant\tmissense variant|initiator_codon_variant\tPathogenic/Likely pathogenic\tMar 21, 2025\tcriteria provided, multiple submitters, no conflicts\n",
      "\n",
      "\n"
     ]
    }
   ],
   "source": [
    "# Import libraries\n",
    "import os\n",
    "\n",
    "# File paths\n",
    "files = [\n",
    "    \"C:/Users/REINA/BRCA2_Pathogenicity/data/raw/brca2_sequence.txt\",\n",
    "    \"C:/Users/REINA/BRCA2_Pathogenicity/data/raw/clinvar_benign.txt\",\n",
    "    \"C:/Users/REINA/BRCA2_Pathogenicity/data/raw/clinvar_pathogenic.txt\"\n",
    "]\n",
    "\n",
    "# Function to read and print first lines of a txt file\n",
    "def read_txt_file(filepath, num_lines=5):\n",
    "    print(f\"--- Reading {filepath} ---\")\n",
    "    if not os.path.exists(filepath):\n",
    "        print(f\"File not found: {filepath}\\n\")\n",
    "        return\n",
    "    with open(filepath, \"r\", encoding=\"utf-8\") as f:\n",
    "        for _ in range(num_lines):\n",
    "            line = f.readline()\n",
    "            if not line:\n",
    "                break\n",
    "            print(line.strip())\n",
    "    print(\"\\n\")\n",
    "\n",
    "# Read each file\n",
    "for filepath in files:\n",
    "    read_txt_file(filepath)\n"
   ]
  },
  {
   "cell_type": "code",
   "execution_count": null,
   "metadata": {},
   "outputs": [],
   "source": []
  }
 ],
 "metadata": {
  "kernelspec": {
   "display_name": "Python 3 (ipykernel)",
   "language": "python",
   "name": "python3"
  },
  "language_info": {
   "codemirror_mode": {
    "name": "ipython",
    "version": 3
   },
   "file_extension": ".py",
   "mimetype": "text/x-python",
   "name": "python",
   "nbconvert_exporter": "python",
   "pygments_lexer": "ipython3",
   "version": "3.12.3"
  }
 },
 "nbformat": 4,
 "nbformat_minor": 4
}
